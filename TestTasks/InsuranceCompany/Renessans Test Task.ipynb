{
 "cells": [
  {
   "cell_type": "markdown",
   "metadata": {},
   "source": [
    "Импортируем необходимые библиотеки"
   ]
  },
  {
   "cell_type": "code",
   "execution_count": 1,
   "metadata": {},
   "outputs": [],
   "source": [
    "import numpy as np \n",
    "import pandas as pd \n",
    "import matplotlib.pyplot as plt \n",
    "import seaborn as sns\n",
    "import warnings\n",
    "warnings.filterwarnings(\"ignore\")\n",
    "pd.options.display.max_columns = None"
   ]
  },
  {
   "cell_type": "markdown",
   "metadata": {},
   "source": [
    "Загружаем данные"
   ]
  },
  {
   "cell_type": "code",
   "execution_count": 2,
   "metadata": {},
   "outputs": [],
   "source": [
    "data = pd.read_csv(\"data.txt\", sep=';')"
   ]
  },
  {
   "cell_type": "code",
   "execution_count": 3,
   "metadata": {},
   "outputs": [
    {
     "data": {
      "text/html": [
       "<div>\n",
       "<style scoped>\n",
       "    .dataframe tbody tr th:only-of-type {\n",
       "        vertical-align: middle;\n",
       "    }\n",
       "\n",
       "    .dataframe tbody tr th {\n",
       "        vertical-align: top;\n",
       "    }\n",
       "\n",
       "    .dataframe thead th {\n",
       "        text-align: right;\n",
       "    }\n",
       "</style>\n",
       "<table border=\"1\" class=\"dataframe\">\n",
       "  <thead>\n",
       "    <tr style=\"text-align: right;\">\n",
       "      <th></th>\n",
       "      <th>DATA_TYPE</th>\n",
       "      <th>POLICY_ID</th>\n",
       "      <th>POLICY_BEGIN_MONTH</th>\n",
       "      <th>POLICY_END_MONTH</th>\n",
       "      <th>POLICY_IS_RENEWED</th>\n",
       "      <th>POLICY_SALES_CHANNEL</th>\n",
       "      <th>POLICY_SALES_CHANNEL_GROUP</th>\n",
       "      <th>POLICY_BRANCH</th>\n",
       "      <th>POLICY_MIN_AGE</th>\n",
       "      <th>POLICY_MIN_DRIVING_EXPERIENCE</th>\n",
       "      <th>VEHICLE_MAKE</th>\n",
       "      <th>VEHICLE_MODEL</th>\n",
       "      <th>VEHICLE_ENGINE_POWER</th>\n",
       "      <th>VEHICLE_IN_CREDIT</th>\n",
       "      <th>VEHICLE_SUM_INSURED</th>\n",
       "      <th>POLICY_INTERMEDIARY</th>\n",
       "      <th>INSURER_GENDER</th>\n",
       "      <th>POLICY_CLM_N</th>\n",
       "      <th>POLICY_CLM_GLT_N</th>\n",
       "      <th>POLICY_PRV_CLM_N</th>\n",
       "      <th>POLICY_PRV_CLM_GLT_N</th>\n",
       "      <th>CLIENT_HAS_DAGO</th>\n",
       "      <th>CLIENT_HAS_OSAGO</th>\n",
       "      <th>POLICY_COURT_SIGN</th>\n",
       "      <th>CLAIM_AVG_ACC_ST_PRD</th>\n",
       "      <th>POLICY_HAS_COMPLAINTS</th>\n",
       "      <th>POLICY_YEARS_RENEWED_N</th>\n",
       "      <th>POLICY_DEDUCT_VALUE</th>\n",
       "      <th>CLIENT_REGISTRATION_REGION</th>\n",
       "      <th>POLICY_PRICE_CHANGE</th>\n",
       "    </tr>\n",
       "  </thead>\n",
       "  <tbody>\n",
       "    <tr>\n",
       "      <td>0</td>\n",
       "      <td>TRAIN</td>\n",
       "      <td>1</td>\n",
       "      <td>1</td>\n",
       "      <td>1</td>\n",
       "      <td>1</td>\n",
       "      <td>39</td>\n",
       "      <td>1</td>\n",
       "      <td>Москва</td>\n",
       "      <td>51</td>\n",
       "      <td>12</td>\n",
       "      <td>Land Rover</td>\n",
       "      <td>Discovery</td>\n",
       "      <td>245.0</td>\n",
       "      <td>0</td>\n",
       "      <td>1283202.0</td>\n",
       "      <td>856</td>\n",
       "      <td>F</td>\n",
       "      <td>0</td>\n",
       "      <td>0</td>\n",
       "      <td>N</td>\n",
       "      <td>N</td>\n",
       "      <td>1</td>\n",
       "      <td>0</td>\n",
       "      <td>0</td>\n",
       "      <td>0.0</td>\n",
       "      <td>0</td>\n",
       "      <td>0</td>\n",
       "      <td>0.0</td>\n",
       "      <td>Тульская</td>\n",
       "      <td>-1.00</td>\n",
       "    </tr>\n",
       "    <tr>\n",
       "      <td>1</td>\n",
       "      <td>TRAIN</td>\n",
       "      <td>2</td>\n",
       "      <td>1</td>\n",
       "      <td>1</td>\n",
       "      <td>1</td>\n",
       "      <td>50</td>\n",
       "      <td>5</td>\n",
       "      <td>Москва</td>\n",
       "      <td>35</td>\n",
       "      <td>7</td>\n",
       "      <td>Opel</td>\n",
       "      <td>Zafira</td>\n",
       "      <td>140.0</td>\n",
       "      <td>0</td>\n",
       "      <td>453000.0</td>\n",
       "      <td>N</td>\n",
       "      <td>M</td>\n",
       "      <td>0</td>\n",
       "      <td>0</td>\n",
       "      <td>0</td>\n",
       "      <td>0</td>\n",
       "      <td>1</td>\n",
       "      <td>1</td>\n",
       "      <td>0</td>\n",
       "      <td>0.0</td>\n",
       "      <td>0</td>\n",
       "      <td>4</td>\n",
       "      <td>0.0</td>\n",
       "      <td>Москва</td>\n",
       "      <td>-0.05</td>\n",
       "    </tr>\n",
       "    <tr>\n",
       "      <td>2</td>\n",
       "      <td>TRAIN</td>\n",
       "      <td>3</td>\n",
       "      <td>1</td>\n",
       "      <td>1</td>\n",
       "      <td>1</td>\n",
       "      <td>52</td>\n",
       "      <td>6</td>\n",
       "      <td>Москва</td>\n",
       "      <td>41</td>\n",
       "      <td>6</td>\n",
       "      <td>Kia</td>\n",
       "      <td>Soul</td>\n",
       "      <td>129.0</td>\n",
       "      <td>0</td>\n",
       "      <td>647718.0</td>\n",
       "      <td>N</td>\n",
       "      <td>F</td>\n",
       "      <td>0</td>\n",
       "      <td>0</td>\n",
       "      <td>1L</td>\n",
       "      <td>1L</td>\n",
       "      <td>0</td>\n",
       "      <td>0</td>\n",
       "      <td>0</td>\n",
       "      <td>0.0</td>\n",
       "      <td>0</td>\n",
       "      <td>1</td>\n",
       "      <td>12518.0</td>\n",
       "      <td>Московская</td>\n",
       "      <td>-0.07</td>\n",
       "    </tr>\n",
       "    <tr>\n",
       "      <td>3</td>\n",
       "      <td>TRAIN</td>\n",
       "      <td>4</td>\n",
       "      <td>1</td>\n",
       "      <td>1</td>\n",
       "      <td>1</td>\n",
       "      <td>50</td>\n",
       "      <td>5</td>\n",
       "      <td>Москва</td>\n",
       "      <td>36</td>\n",
       "      <td>12</td>\n",
       "      <td>Citroen</td>\n",
       "      <td>C-Crosser</td>\n",
       "      <td>170.0</td>\n",
       "      <td>0</td>\n",
       "      <td>757795.0</td>\n",
       "      <td>N</td>\n",
       "      <td>M</td>\n",
       "      <td>0</td>\n",
       "      <td>0</td>\n",
       "      <td>0</td>\n",
       "      <td>0</td>\n",
       "      <td>1</td>\n",
       "      <td>1</td>\n",
       "      <td>0</td>\n",
       "      <td>0.0</td>\n",
       "      <td>0</td>\n",
       "      <td>6</td>\n",
       "      <td>15000.0</td>\n",
       "      <td>Москва</td>\n",
       "      <td>0.05</td>\n",
       "    </tr>\n",
       "    <tr>\n",
       "      <td>4</td>\n",
       "      <td>TRAIN</td>\n",
       "      <td>5</td>\n",
       "      <td>1</td>\n",
       "      <td>1</td>\n",
       "      <td>0</td>\n",
       "      <td>52</td>\n",
       "      <td>6</td>\n",
       "      <td>Санкт-Петербург</td>\n",
       "      <td>42</td>\n",
       "      <td>5</td>\n",
       "      <td>Renault</td>\n",
       "      <td>Logan</td>\n",
       "      <td>102.0</td>\n",
       "      <td>0</td>\n",
       "      <td>604500.0</td>\n",
       "      <td>171</td>\n",
       "      <td>F</td>\n",
       "      <td>0</td>\n",
       "      <td>0</td>\n",
       "      <td>N</td>\n",
       "      <td>N</td>\n",
       "      <td>0</td>\n",
       "      <td>0</td>\n",
       "      <td>0</td>\n",
       "      <td>0.0</td>\n",
       "      <td>0</td>\n",
       "      <td>0</td>\n",
       "      <td>50000.0</td>\n",
       "      <td>Ленинградская</td>\n",
       "      <td>0.17</td>\n",
       "    </tr>\n",
       "  </tbody>\n",
       "</table>\n",
       "</div>"
      ],
      "text/plain": [
       "  DATA_TYPE  POLICY_ID  POLICY_BEGIN_MONTH  POLICY_END_MONTH  \\\n",
       "0     TRAIN          1                   1                 1   \n",
       "1     TRAIN          2                   1                 1   \n",
       "2     TRAIN          3                   1                 1   \n",
       "3     TRAIN          4                   1                 1   \n",
       "4     TRAIN          5                   1                 1   \n",
       "\n",
       "   POLICY_IS_RENEWED  POLICY_SALES_CHANNEL  POLICY_SALES_CHANNEL_GROUP  \\\n",
       "0                  1                    39                           1   \n",
       "1                  1                    50                           5   \n",
       "2                  1                    52                           6   \n",
       "3                  1                    50                           5   \n",
       "4                  0                    52                           6   \n",
       "\n",
       "     POLICY_BRANCH  POLICY_MIN_AGE  POLICY_MIN_DRIVING_EXPERIENCE  \\\n",
       "0           Москва              51                             12   \n",
       "1           Москва              35                              7   \n",
       "2           Москва              41                              6   \n",
       "3           Москва              36                             12   \n",
       "4  Санкт-Петербург              42                              5   \n",
       "\n",
       "  VEHICLE_MAKE VEHICLE_MODEL  VEHICLE_ENGINE_POWER  VEHICLE_IN_CREDIT  \\\n",
       "0   Land Rover     Discovery                 245.0                  0   \n",
       "1         Opel        Zafira                 140.0                  0   \n",
       "2          Kia          Soul                 129.0                  0   \n",
       "3      Citroen     C-Crosser                 170.0                  0   \n",
       "4      Renault         Logan                 102.0                  0   \n",
       "\n",
       "   VEHICLE_SUM_INSURED POLICY_INTERMEDIARY INSURER_GENDER POLICY_CLM_N  \\\n",
       "0            1283202.0                 856              F            0   \n",
       "1             453000.0                   N              M            0   \n",
       "2             647718.0                   N              F            0   \n",
       "3             757795.0                   N              M            0   \n",
       "4             604500.0                 171              F            0   \n",
       "\n",
       "  POLICY_CLM_GLT_N POLICY_PRV_CLM_N POLICY_PRV_CLM_GLT_N  CLIENT_HAS_DAGO  \\\n",
       "0                0                N                    N                1   \n",
       "1                0                0                    0                1   \n",
       "2                0               1L                   1L                0   \n",
       "3                0                0                    0                1   \n",
       "4                0                N                    N                0   \n",
       "\n",
       "   CLIENT_HAS_OSAGO  POLICY_COURT_SIGN  CLAIM_AVG_ACC_ST_PRD  \\\n",
       "0                 0                  0                   0.0   \n",
       "1                 1                  0                   0.0   \n",
       "2                 0                  0                   0.0   \n",
       "3                 1                  0                   0.0   \n",
       "4                 0                  0                   0.0   \n",
       "\n",
       "   POLICY_HAS_COMPLAINTS POLICY_YEARS_RENEWED_N  POLICY_DEDUCT_VALUE  \\\n",
       "0                      0                      0                  0.0   \n",
       "1                      0                      4                  0.0   \n",
       "2                      0                      1              12518.0   \n",
       "3                      0                      6              15000.0   \n",
       "4                      0                      0              50000.0   \n",
       "\n",
       "  CLIENT_REGISTRATION_REGION  POLICY_PRICE_CHANGE  \n",
       "0                   Тульская                -1.00  \n",
       "1                     Москва                -0.05  \n",
       "2                 Московская                -0.07  \n",
       "3                     Москва                 0.05  \n",
       "4              Ленинградская                 0.17  "
      ]
     },
     "execution_count": 3,
     "metadata": {},
     "output_type": "execute_result"
    }
   ],
   "source": [
    "data.head()"
   ]
  },
  {
   "cell_type": "markdown",
   "metadata": {},
   "source": [
    "Проверим тип данных по каждому столбцу и наличие пропусков"
   ]
  },
  {
   "cell_type": "code",
   "execution_count": 4,
   "metadata": {},
   "outputs": [
    {
     "name": "stdout",
     "output_type": "stream",
     "text": [
      "<class 'pandas.core.frame.DataFrame'>\n",
      "RangeIndex: 96605 entries, 0 to 96604\n",
      "Data columns (total 30 columns):\n",
      "DATA_TYPE                        96605 non-null object\n",
      "POLICY_ID                        96605 non-null int64\n",
      "POLICY_BEGIN_MONTH               96605 non-null int64\n",
      "POLICY_END_MONTH                 96605 non-null int64\n",
      "POLICY_IS_RENEWED                96605 non-null int64\n",
      "POLICY_SALES_CHANNEL             96605 non-null int64\n",
      "POLICY_SALES_CHANNEL_GROUP       96605 non-null int64\n",
      "POLICY_BRANCH                    96605 non-null object\n",
      "POLICY_MIN_AGE                   96605 non-null int64\n",
      "POLICY_MIN_DRIVING_EXPERIENCE    96605 non-null int64\n",
      "VEHICLE_MAKE                     96605 non-null object\n",
      "VEHICLE_MODEL                    96605 non-null object\n",
      "VEHICLE_ENGINE_POWER             96605 non-null float64\n",
      "VEHICLE_IN_CREDIT                96605 non-null int64\n",
      "VEHICLE_SUM_INSURED              96605 non-null float64\n",
      "POLICY_INTERMEDIARY              96605 non-null object\n",
      "INSURER_GENDER                   96605 non-null object\n",
      "POLICY_CLM_N                     96605 non-null object\n",
      "POLICY_CLM_GLT_N                 96605 non-null object\n",
      "POLICY_PRV_CLM_N                 96605 non-null object\n",
      "POLICY_PRV_CLM_GLT_N             96605 non-null object\n",
      "CLIENT_HAS_DAGO                  96605 non-null int64\n",
      "CLIENT_HAS_OSAGO                 96605 non-null int64\n",
      "POLICY_COURT_SIGN                96605 non-null int64\n",
      "CLAIM_AVG_ACC_ST_PRD             96605 non-null float64\n",
      "POLICY_HAS_COMPLAINTS            96605 non-null int64\n",
      "POLICY_YEARS_RENEWED_N           96605 non-null object\n",
      "POLICY_DEDUCT_VALUE              96605 non-null float64\n",
      "CLIENT_REGISTRATION_REGION       96605 non-null object\n",
      "POLICY_PRICE_CHANGE              96605 non-null float64\n",
      "dtypes: float64(5), int64(13), object(12)\n",
      "memory usage: 22.1+ MB\n"
     ]
    }
   ],
   "source": [
    "data.info()"
   ]
  },
  {
   "cell_type": "code",
   "execution_count": 5,
   "metadata": {},
   "outputs": [
    {
     "data": {
      "text/plain": [
       "DATA_TYPE                        0\n",
       "POLICY_ID                        0\n",
       "POLICY_BEGIN_MONTH               0\n",
       "POLICY_END_MONTH                 0\n",
       "POLICY_IS_RENEWED                0\n",
       "POLICY_SALES_CHANNEL             0\n",
       "POLICY_SALES_CHANNEL_GROUP       0\n",
       "POLICY_BRANCH                    0\n",
       "POLICY_MIN_AGE                   0\n",
       "POLICY_MIN_DRIVING_EXPERIENCE    0\n",
       "VEHICLE_MAKE                     0\n",
       "VEHICLE_MODEL                    0\n",
       "VEHICLE_ENGINE_POWER             0\n",
       "VEHICLE_IN_CREDIT                0\n",
       "VEHICLE_SUM_INSURED              0\n",
       "POLICY_INTERMEDIARY              0\n",
       "INSURER_GENDER                   0\n",
       "POLICY_CLM_N                     0\n",
       "POLICY_CLM_GLT_N                 0\n",
       "POLICY_PRV_CLM_N                 0\n",
       "POLICY_PRV_CLM_GLT_N             0\n",
       "CLIENT_HAS_DAGO                  0\n",
       "CLIENT_HAS_OSAGO                 0\n",
       "POLICY_COURT_SIGN                0\n",
       "CLAIM_AVG_ACC_ST_PRD             0\n",
       "POLICY_HAS_COMPLAINTS            0\n",
       "POLICY_YEARS_RENEWED_N           0\n",
       "POLICY_DEDUCT_VALUE              0\n",
       "CLIENT_REGISTRATION_REGION       0\n",
       "POLICY_PRICE_CHANGE              0\n",
       "dtype: int64"
      ]
     },
     "execution_count": 5,
     "metadata": {},
     "output_type": "execute_result"
    }
   ],
   "source": [
    "data.isnull().sum()"
   ]
  },
  {
   "cell_type": "markdown",
   "metadata": {},
   "source": [
    "Всего 30 признаков, в 12 из них присутствуют строковые значения или категориальные данные, их необходимо будеи перевести в числовой формат. Пропуски в данных отсутсвуют."
   ]
  },
  {
   "cell_type": "markdown",
   "metadata": {},
   "source": [
    "Посчитаем количество уникальных значений для каждого признака"
   ]
  },
  {
   "cell_type": "code",
   "execution_count": 6,
   "metadata": {},
   "outputs": [
    {
     "data": {
      "text/plain": [
       "DATA_TYPE                            2\n",
       "POLICY_ID                        96605\n",
       "POLICY_BEGIN_MONTH                  12\n",
       "POLICY_END_MONTH                    12\n",
       "POLICY_IS_RENEWED                    2\n",
       "POLICY_SALES_CHANNEL                63\n",
       "POLICY_SALES_CHANNEL_GROUP           8\n",
       "POLICY_BRANCH                        2\n",
       "POLICY_MIN_AGE                      68\n",
       "POLICY_MIN_DRIVING_EXPERIENCE      112\n",
       "VEHICLE_MAKE                        83\n",
       "VEHICLE_MODEL                      549\n",
       "VEHICLE_ENGINE_POWER               347\n",
       "VEHICLE_IN_CREDIT                    2\n",
       "VEHICLE_SUM_INSURED              44638\n",
       "POLICY_INTERMEDIARY               1406\n",
       "INSURER_GENDER                       2\n",
       "POLICY_CLM_N                         7\n",
       "POLICY_CLM_GLT_N                     7\n",
       "POLICY_PRV_CLM_N                     7\n",
       "POLICY_PRV_CLM_GLT_N                 7\n",
       "CLIENT_HAS_DAGO                      2\n",
       "CLIENT_HAS_OSAGO                     2\n",
       "POLICY_COURT_SIGN                    2\n",
       "CLAIM_AVG_ACC_ST_PRD               709\n",
       "POLICY_HAS_COMPLAINTS                2\n",
       "POLICY_YEARS_RENEWED_N              12\n",
       "POLICY_DEDUCT_VALUE                235\n",
       "CLIENT_REGISTRATION_REGION          85\n",
       "POLICY_PRICE_CHANGE                592\n",
       "dtype: int64"
      ]
     },
     "execution_count": 6,
     "metadata": {},
     "output_type": "execute_result"
    }
   ],
   "source": [
    "data.nunique()"
   ]
  },
  {
   "cell_type": "markdown",
   "metadata": {},
   "source": [
    "## Разведочный анализ данных"
   ]
  },
  {
   "cell_type": "markdown",
   "metadata": {},
   "source": [
    "Проверим распределение классов искомой величины POLICY_IS_RENEWED. В задание сказано, что в тестовой выборке все значения обнулены, поэтому исключаем из общего датафрейма тестовые объекты:"
   ]
  },
  {
   "cell_type": "code",
   "execution_count": 7,
   "metadata": {},
   "outputs": [
    {
     "data": {
      "image/png": "[encoded data removed]",
      "text/plain": [
       "<Figure size 720x576 with 1 Axes>"
      ]
     },
     "metadata": {},
     "output_type": "display_data"
    }
   ],
   "source": [
    "labels = 'Полис пролонгируется', 'Полис не пролонгируется'\n",
    "sizes = [data['POLICY_IS_RENEWED'][(data['POLICY_IS_RENEWED']==1) & (data['DATA_TYPE'] =='TRAIN')].count(), data['POLICY_IS_RENEWED'][(data['POLICY_IS_RENEWED']==0) & (data['DATA_TYPE'] =='TRAIN')].count()]\n",
    "explode = (0, 0.1)\n",
    "fig1, ax1 = plt.subplots(figsize=(10, 8))\n",
    "ax1.pie(sizes, explode=explode, labels=labels, autopct='%1.1f%%', startangle=90)\n",
    "ax1.axis('equal')\n",
    "plt.title(\"Доля полисов с пролонгацией и без\", size = 20)\n",
    "plt.show()"
   ]
  },
  {
   "cell_type": "markdown",
   "metadata": {},
   "source": [
    "По вышеуказанном графику видно, что в 37,5% случаев пролонгация полисов не происходит. Проанализируем взаимосвязи признаков с прогнозируемым параметром."
   ]
  },
  {
   "cell_type": "code",
   "execution_count": 8,
   "metadata": {},
   "outputs": [
    {
     "data": {
      "text/plain": [
       "<matplotlib.axes._subplots.AxesSubplot at 0x12a2a4490>"
      ]
     },
     "execution_count": 8,
     "metadata": {},
     "output_type": "execute_result"
    },
    {
     "data": {
      "image/png": "[encoded data removed]",
      "text/plain": [
       "<Figure size 1584x2304 with 16 Axes>"
      ]
     },
     "metadata": {
      "needs_background": "light"
     },
     "output_type": "display_data"
    }
   ],
   "source": [
    "fig, axarr = plt.subplots(8, 2, figsize=(22, 32))\n",
    "sns.countplot(y='POLICY_SALES_CHANNEL', hue = 'POLICY_IS_RENEWED',\n",
    "              data = data, order=data.POLICY_SALES_CHANNEL.value_counts().head(10).index, ax=axarr[0][0])\n",
    "sns.countplot(y='POLICY_INTERMEDIARY', hue = 'POLICY_IS_RENEWED',\n",
    "              data = data, order = data.POLICY_INTERMEDIARY.value_counts().head(10).index, ax=axarr[0][1])\n",
    "sns.countplot(y='CLIENT_REGISTRATION_REGION', hue = 'POLICY_IS_RENEWED',\n",
    "              data = data, order=data.CLIENT_REGISTRATION_REGION.value_counts().head(10).index, ax=axarr[1][0])\n",
    "sns.countplot(y='VEHICLE_MAKE', hue = 'POLICY_IS_RENEWED',\n",
    "              data = data, order = data.VEHICLE_MAKE.value_counts().head(15).index, ax=axarr[1][1])\n",
    "sns.countplot(y='POLICY_HAS_COMPLAINTS', hue = 'POLICY_IS_RENEWED',data = data, ax=axarr[2][0])\n",
    "sns.countplot(y='VEHICLE_IN_CREDIT', hue = 'POLICY_IS_RENEWED', data = data, ax=axarr[2][1])\n",
    "sns.countplot(y='INSURER_GENDER', hue = 'POLICY_IS_RENEWED',\n",
    "              data = data, order = data.INSURER_GENDER.value_counts().head(10).index, ax=axarr[3][0])\n",
    "sns.countplot(y='POLICY_YEARS_RENEWED_N', hue = 'POLICY_IS_RENEWED',data = data, ax=axarr[3][1])\n",
    "sns.countplot(y='POLICY_CLM_N', hue = 'POLICY_IS_RENEWED',data = data, ax=axarr[4][0])\n",
    "sns.countplot(y='POLICY_CLM_GLT_N', hue = 'POLICY_IS_RENEWED',data = data, ax=axarr[4][1])\n",
    "sns.countplot(y='POLICY_PRV_CLM_N', hue = 'POLICY_IS_RENEWED',data = data, ax=axarr[5][0])\n",
    "sns.countplot(y='POLICY_PRV_CLM_GLT_N', hue = 'POLICY_IS_RENEWED',data = data, ax=axarr[5][1])\n",
    "sns.countplot(y='CLIENT_HAS_DAGO', hue = 'POLICY_IS_RENEWED',data = data, ax=axarr[6][0])\n",
    "sns.countplot(y='CLIENT_HAS_OSAGO', hue = 'POLICY_IS_RENEWED',data = data, ax=axarr[6][1])\n",
    "sns.countplot(y='POLICY_BRANCH', hue = 'POLICY_IS_RENEWED',data = data, ax=axarr[7][0])\n",
    "sns.countplot(y='POLICY_COURT_SIGN', hue = 'POLICY_IS_RENEWED',data = data, ax=axarr[7][1])"
   ]
  },
  {
   "cell_type": "code",
   "execution_count": 9,
   "metadata": {},
   "outputs": [
    {
     "data": {
      "text/plain": [
       "<matplotlib.axes._subplots.AxesSubplot at 0x12969ca50>"
      ]
     },
     "execution_count": 9,
     "metadata": {},
     "output_type": "execute_result"
    },
    {
     "data": {
      "image/png": "[encoded data removed]",
      "text/plain": [
       "<Figure size 1440x864 with 1 Axes>"
      ]
     },
     "metadata": {
      "needs_background": "light"
     },
     "output_type": "display_data"
    }
   ],
   "source": [
    "plt.figure(figsize=(20, 12))\n",
    "sns.countplot(y='POLICY_MIN_AGE', hue = 'POLICY_IS_RENEWED',data = data)"
   ]
  },
  {
   "cell_type": "code",
   "execution_count": 10,
   "metadata": {},
   "outputs": [
    {
     "data": {
      "text/plain": [
       "<matplotlib.axes._subplots.AxesSubplot at 0x12c6f72d0>"
      ]
     },
     "execution_count": 10,
     "metadata": {},
     "output_type": "execute_result"
    },
    {
     "data": {
      "image/png": "[encoded data removed]",
      "text/plain": [
       "<Figure size 1440x864 with 1 Axes>"
      ]
     },
     "metadata": {
      "needs_background": "light"
     },
     "output_type": "display_data"
    }
   ],
   "source": [
    "plt.figure(figsize=(20, 12))\n",
    "sns.countplot(y='POLICY_MIN_DRIVING_EXPERIENCE', hue = 'POLICY_IS_RENEWED',data = data, order = sorted(data.POLICY_MIN_DRIVING_EXPERIENCE.value_counts().head(30).index.to_list()))"
   ]
  },
  {
   "cell_type": "markdown",
   "metadata": {},
   "source": [
    "Посмотрим на распределение оставшихся признаков"
   ]
  },
  {
   "cell_type": "code",
   "execution_count": 11,
   "metadata": {},
   "outputs": [
    {
     "data": {
      "text/plain": [
       "<matplotlib.axes._subplots.AxesSubplot at 0x12a5a2350>"
      ]
     },
     "execution_count": 11,
     "metadata": {},
     "output_type": "execute_result"
    },
    {
     "data": {
      "image/png": "[encoded data removed]",
      "text/plain": [
       "<Figure size 1440x864 with 4 Axes>"
      ]
     },
     "metadata": {
      "needs_background": "light"
     },
     "output_type": "display_data"
    }
   ],
   "source": [
    "fig, axarr = plt.subplots(2, 2, figsize=(20, 12))\n",
    "sns.boxplot(y='POLICY_PRICE_CHANGE',x = 'POLICY_IS_RENEWED', hue = 'POLICY_IS_RENEWED',data = data, ax=axarr[0][0])\n",
    "sns.boxplot(y='VEHICLE_SUM_INSURED',x = 'POLICY_IS_RENEWED', hue = 'POLICY_IS_RENEWED',data = data, ax=axarr[0][1])\n",
    "sns.boxplot(y='POLICY_DEDUCT_VALUE',x = 'POLICY_IS_RENEWED', hue = 'POLICY_IS_RENEWED',data = data, ax=axarr[1][0])\n",
    "sns.boxplot(y='VEHICLE_ENGINE_POWER',x = 'POLICY_IS_RENEWED', hue = 'POLICY_IS_RENEWED',data = data, ax=axarr[1][1])"
   ]
  },
  {
   "cell_type": "markdown",
   "metadata": {},
   "source": [
    "**Краткие выводы:**\\\n",
    "1) Прослеживается тенденция, что люди молодого возраста (до 35 лет) более склонны к смене страховой компании. Клиенты старше 35 лет наоборот более лояльны и чаще пролонгирует полис.\\\n",
    "2) Клиенты с нулевым стажем более вероятно не будут пролонгировать полис.\\\n",
    "3) Лояльность клиента увеличивается с увеличением длительности пролонгирации полиса.\\\n",
    "4) Стоит обратить внимание на 55 и 54 каналы продаж, а также на посредников 1096 и 1226, по ним отток клиентов выделяется на фоне остальных значений признаков.\\\n",
    "5) В Санкт-Петербурге клиенты более лояльные, чем в Москве, Московской и Ленинградской областях. \\\n",
    "6) По маркам автомобилей наиболее не лояльны владельцы Mitsubishi. Возможно имеет смысл обзвонить их отдельно и выяснить, что их не устраивает.\\\n",
    "7) Вероятность непролонгации увеличивается с увеличением страховых случаев по вине клиента. При значениях 3 и выше вероятность оттока увеличивается в разы."
   ]
  },
  {
   "cell_type": "markdown",
   "metadata": {},
   "source": [
    "## Обработка данных"
   ]
  },
  {
   "cell_type": "markdown",
   "metadata": {},
   "source": [
    "Часть признаков являются категориальными, закодируем их в числовые значения используя LabelEncoder из пакета sklearn.preprocessing. Сохраним словари кодирования, для дальнейшей индентификации значений признаков."
   ]
  },
  {
   "cell_type": "code",
   "execution_count": 12,
   "metadata": {},
   "outputs": [],
   "source": [
    "from sklearn.utils import shuffle"
   ]
  },
  {
   "cell_type": "code",
   "execution_count": 13,
   "metadata": {},
   "outputs": [],
   "source": [
    "from sklearn.preprocessing import LabelEncoder\n",
    "\n",
    "#VEHICLE_MAKE labeling\n",
    "VEHICLE_MAKE_ENCODER = LabelEncoder()\n",
    "data['VEHICLE_MAKE'] = VEHICLE_MAKE_ENCODER.fit_transform(data['VEHICLE_MAKE'])\n",
    "VEHICLE_MAKE_mapping = dict(zip(VEHICLE_MAKE_ENCODER.classes_, VEHICLE_MAKE_ENCODER.transform(VEHICLE_MAKE_ENCODER.classes_)))\n",
    "\n",
    "#VEHICLE_MODEL labeling\n",
    "VEHICLE_MODEL_ENCODER = LabelEncoder()\n",
    "data['VEHICLE_MODEL'] = VEHICLE_MODEL_ENCODER.fit_transform(data['VEHICLE_MODEL'])\n",
    "VEHICLE_MODEL_mapping = dict(zip(VEHICLE_MODEL_ENCODER.classes_, VEHICLE_MODEL_ENCODER.transform(VEHICLE_MODEL_ENCODER.classes_)))\n",
    "\n",
    "#POLICY_BRANCH labeling\n",
    "POLICY_BRANCH_ENCODER = LabelEncoder()\n",
    "data['POLICY_BRANCH'] = POLICY_BRANCH_ENCODER.fit_transform(data['POLICY_BRANCH'])\n",
    "POLICY_BRANCH_mapping = dict(zip(POLICY_BRANCH_ENCODER.classes_, POLICY_BRANCH_ENCODER.transform(POLICY_BRANCH_ENCODER.classes_)))\n",
    "\n",
    "\n",
    "#INSURER_GENDER labeling\n",
    "INSURER_GENDER_ENCODER = LabelEncoder()\n",
    "data['INSURER_GENDER'] = INSURER_GENDER_ENCODER.fit_transform(data['INSURER_GENDER'])\n",
    "INSURER_GENDER_mapping = dict(zip(INSURER_GENDER_ENCODER.classes_, INSURER_GENDER_ENCODER.transform(INSURER_GENDER_ENCODER.classes_)))\n",
    "\n",
    "\n",
    "#POLICY_CLM_N labeling\n",
    "POLICY_CLM_N_ENCODER = LabelEncoder()\n",
    "data['POLICY_CLM_N'] = POLICY_CLM_N_ENCODER.fit_transform(data['POLICY_CLM_N'])\n",
    "POLICY_CLM_N_mapping = dict(zip(POLICY_CLM_N_ENCODER.classes_, POLICY_CLM_N_ENCODER.transform(POLICY_CLM_N_ENCODER.classes_)))\n",
    "\n",
    "#POLICY_CLM_GLT_N labeling\n",
    "POLICY_CLM_GLT_N_ENCODER = LabelEncoder()\n",
    "data['POLICY_CLM_GLT_N'] = POLICY_CLM_GLT_N_ENCODER.fit_transform(data['POLICY_CLM_GLT_N'])\n",
    "POLICY_CLM_GLT_N_mapping = dict(zip(POLICY_CLM_GLT_N_ENCODER.classes_, POLICY_CLM_GLT_N_ENCODER.transform(POLICY_CLM_GLT_N_ENCODER.classes_)))\n",
    "\n",
    "#POLICY_PRV_CLM_N labeling\n",
    "POLICY_PRV_CLM_N_ENCODER = LabelEncoder()\n",
    "data['POLICY_PRV_CLM_N'] = POLICY_PRV_CLM_N_ENCODER.fit_transform(data['POLICY_PRV_CLM_N'])\n",
    "POLICY_PRV_CLM_N_mapping = dict(zip(POLICY_PRV_CLM_N_ENCODER.classes_, POLICY_PRV_CLM_N_ENCODER.transform(POLICY_PRV_CLM_N_ENCODER.classes_)))\n",
    "\n",
    "#POLICY_PRV_CLM_GLT_N labeling\n",
    "POLICY_PRV_CLM_GLT_N_ENCODER = LabelEncoder()\n",
    "data['POLICY_PRV_CLM_GLT_N'] = POLICY_PRV_CLM_GLT_N_ENCODER.fit_transform(data['POLICY_PRV_CLM_GLT_N'])\n",
    "POLICY_PRV_CLM_GLT_N_mapping = dict(zip(POLICY_PRV_CLM_GLT_N_ENCODER.classes_, POLICY_PRV_CLM_GLT_N_ENCODER.transform(POLICY_PRV_CLM_GLT_N_ENCODER.classes_)))\n",
    "\n",
    "#POLICY_YEARS_RENEWED_N labeling\n",
    "POLICY_YEARS_RENEWED_N_ENCODER = LabelEncoder()\n",
    "data['POLICY_YEARS_RENEWED_N'] = POLICY_YEARS_RENEWED_N_ENCODER.fit_transform(data['POLICY_YEARS_RENEWED_N'])\n",
    "POLICY_YEARS_RENEWED_N_mapping = dict(zip(POLICY_YEARS_RENEWED_N_ENCODER.classes_, POLICY_YEARS_RENEWED_N_ENCODER.transform(POLICY_YEARS_RENEWED_N_ENCODER.classes_)))\n",
    "\n",
    "#CLIENT_REGISTRATION_REGION labeling\n",
    "CLIENT_REGISTRATION_REGION_ENCODER = LabelEncoder()\n",
    "data['CLIENT_REGISTRATION_REGION'] = CLIENT_REGISTRATION_REGION_ENCODER.fit_transform(data['CLIENT_REGISTRATION_REGION'])\n",
    "CLIENT_REGISTRATION_REGION_mapping = dict(zip(CLIENT_REGISTRATION_REGION_ENCODER.classes_, CLIENT_REGISTRATION_REGION_ENCODER.transform(CLIENT_REGISTRATION_REGION_ENCODER.classes_)))\n",
    "\n",
    "data['POLICY_INTERMEDIARY'] = data['POLICY_INTERMEDIARY'].replace('N', 0).astype('int64')\n",
    "\n",
    "#признак VEHICLE_SUM_INSURED(страховая сумма) разобъем на 5 категорий\n",
    "bins = np.linspace(min(data['VEHICLE_SUM_INSURED']), max(data['VEHICLE_SUM_INSURED']), 5)\n",
    "group_names = [0,1,2,3]\n",
    "data['VEHICLE_SUM_INSURED'] = pd.cut(data['VEHICLE_SUM_INSURED'], bins, labels=group_names, include_lowest=True)\n",
    "data['VEHICLE_SUM_INSURED'] = data['VEHICLE_SUM_INSURED'].astype('int64')"
   ]
  },
  {
   "cell_type": "markdown",
   "metadata": {},
   "source": [
    "Разобъем датафрейм на тренировочную и тестовую выборки. Удалим номера полисов (POLICY_ID) в тренировочной выборке, так они не имеют полезной информации"
   ]
  },
  {
   "cell_type": "code",
   "execution_count": 14,
   "metadata": {},
   "outputs": [],
   "source": [
    "train = data[data['DATA_TYPE'] =='TRAIN']\n",
    "test = data[data['DATA_TYPE'] == 'TEST ']\n",
    "train = train.drop(columns=['DATA_TYPE','POLICY_ID'])\n",
    "test = test.drop(columns=['DATA_TYPE'])\n"
   ]
  },
  {
   "cell_type": "markdown",
   "metadata": {},
   "source": [
    "Выделим в тренировочной выборке искомую величину и признаковое пространство"
   ]
  },
  {
   "cell_type": "code",
   "execution_count": 15,
   "metadata": {},
   "outputs": [],
   "source": [
    "X = train.drop(columns='POLICY_IS_RENEWED')\n",
    "y = train.POLICY_IS_RENEWED"
   ]
  },
  {
   "cell_type": "markdown",
   "metadata": {},
   "source": [
    "Начнем подбор модели"
   ]
  },
  {
   "cell_type": "code",
   "execution_count": 16,
   "metadata": {},
   "outputs": [],
   "source": [
    "from sklearn.model_selection import cross_val_score, cross_validate\n",
    "from sklearn.linear_model import LogisticRegression\n",
    "from sklearn.model_selection import train_test_split\n",
    "from sklearn.ensemble import RandomForestClassifier, ExtraTreesClassifier, GradientBoostingClassifier\n",
    "from sklearn.tree import DecisionTreeClassifier\n",
    "from sklearn.neighbors import KNeighborsClassifier\n",
    "from xgboost import XGBClassifier\n",
    "from sklearn.metrics import average_precision_score, roc_auc_score, classification_report, accuracy_score\n",
    "from sklearn.model_selection import GridSearchCV\n",
    "from sklearn.svm import SVC"
   ]
  },
  {
   "cell_type": "markdown",
   "metadata": {},
   "source": [
    "Проверим через cross_validate модели LogisticRegression, RandomForestClassifier, DecisionTreeClassifier, KNeighborsClassifier и XGBClassifier с базовыми настройками"
   ]
  },
  {
   "cell_type": "code",
   "execution_count": 17,
   "metadata": {},
   "outputs": [
    {
     "name": "stdout",
     "output_type": "stream",
     "text": [
      "0.6632734215688669\n"
     ]
    }
   ],
   "source": [
    "#LogisticRegression\n",
    "scores = cross_validate(LogisticRegression(), X, y, scoring= 'accuracy',\n",
    "                         cv=5, return_train_score=True)\n",
    "print(scores['test_score'].mean())"
   ]
  },
  {
   "cell_type": "code",
   "execution_count": 18,
   "metadata": {},
   "outputs": [
    {
     "name": "stdout",
     "output_type": "stream",
     "text": [
      "0.6713734148256388\n"
     ]
    }
   ],
   "source": [
    "#RandomForestClassifier\n",
    "scores = cross_validate(RandomForestClassifier(), X, y, scoring= 'accuracy',\n",
    "                         cv=5, return_train_score=True)\n",
    "print(scores['test_score'].mean())"
   ]
  },
  {
   "cell_type": "code",
   "execution_count": 19,
   "metadata": {},
   "outputs": [
    {
     "name": "stdout",
     "output_type": "stream",
     "text": [
      "0.61755410581089\n"
     ]
    }
   ],
   "source": [
    "#DecisionTreeClassifier\n",
    "scores = cross_validate(DecisionTreeClassifier(), X, y, scoring= 'accuracy',\n",
    "                         cv=5, return_train_score=True)\n",
    "print(scores['test_score'].mean())"
   ]
  },
  {
   "cell_type": "code",
   "execution_count": 20,
   "metadata": {},
   "outputs": [
    {
     "name": "stdout",
     "output_type": "stream",
     "text": [
      "0.5955275822496826\n"
     ]
    }
   ],
   "source": [
    "#KNeighborsClassifier\n",
    "scores = cross_validate(KNeighborsClassifier(), X, y, scoring= 'accuracy',\n",
    "                         cv=5, return_train_score=True)\n",
    "print(scores['test_score'].mean())"
   ]
  },
  {
   "cell_type": "code",
   "execution_count": 21,
   "metadata": {},
   "outputs": [
    {
     "name": "stdout",
     "output_type": "stream",
     "text": [
      "0.7094320955786306\n"
     ]
    }
   ],
   "source": [
    "#XGBClassifier\n",
    "scores = cross_validate(XGBClassifier(), X, y, scoring= 'accuracy',\n",
    "                         cv=5, return_train_score=True)\n",
    "print(scores['test_score'].mean())"
   ]
  },
  {
   "cell_type": "markdown",
   "metadata": {},
   "source": [
    "Лучше всего себя показали с базовыми настройками RandomForestClassifier и XGBClassifier. Подберем оптимальные параметры используя GridSearchCV. Настройка проводится не по всем параметрам, так как время выполнения тестового задания ограничено, а это самая времязатратная задача."
   ]
  },
  {
   "cell_type": "code",
   "execution_count": 24,
   "metadata": {},
   "outputs": [],
   "source": [
    "def best_model(model):\n",
    "    print(model.best_score_)    \n",
    "    print(model.best_params_)\n",
    "    print(model.best_estimator_)"
   ]
  },
  {
   "cell_type": "code",
   "execution_count": 25,
   "metadata": {},
   "outputs": [
    {
     "name": "stdout",
     "output_type": "stream",
     "text": [
      "0.7141085431550118\n",
      "{'max_depth': 20, 'n_estimators': 150}\n",
      "RandomForestClassifier(bootstrap=True, class_weight=None, criterion='gini',\n",
      "                       max_depth=20, max_features='auto', max_leaf_nodes=None,\n",
      "                       min_impurity_decrease=0.0, min_impurity_split=None,\n",
      "                       min_samples_leaf=1, min_samples_split=2,\n",
      "                       min_weight_fraction_leaf=0.0, n_estimators=150,\n",
      "                       n_jobs=None, oob_score=False, random_state=None,\n",
      "                       verbose=0, warm_start=False)\n"
     ]
    }
   ],
   "source": [
    "#Подбор гиперпараметров для RandomForestClassifier()\n",
    "param_grid = {'max_depth': [5, 10, 20, 30],'n_estimators':[50,100,150]}\n",
    "RFC_grid = GridSearchCV(RandomForestClassifier(), param_grid, cv=3, refit=True, verbose=0)\n",
    "RFC_grid.fit(X,y)\n",
    "best_model(RFC_grid)"
   ]
  },
  {
   "cell_type": "code",
   "execution_count": 27,
   "metadata": {},
   "outputs": [
    {
     "name": "stdout",
     "output_type": "stream",
     "text": [
      "0.7181391863784929\n",
      "{'max_depth': 5, 'n_estimators': 150}\n",
      "XGBClassifier(base_score=0.5, booster='gbtree', colsample_bylevel=1,\n",
      "              colsample_bynode=1, colsample_bytree=1, gamma=0,\n",
      "              learning_rate=0.1, max_delta_step=0, max_depth=5,\n",
      "              min_child_weight=1, missing=None, n_estimators=150, n_jobs=1,\n",
      "              nthread=None, objective='binary:logistic', random_state=0,\n",
      "              reg_alpha=0, reg_lambda=1, scale_pos_weight=1, seed=None,\n",
      "              silent=None, subsample=1, verbosity=1)\n"
     ]
    }
   ],
   "source": [
    "#Подбор гиперпараметров для XGBClassifier()\n",
    "param_grid = {'max_depth': [5, 10, 15, 20],'n_estimators':[50,100,150]}\n",
    "XGB_grid = GridSearchCV(XGBClassifier(), param_grid, cv=3, refit=True, verbose=0)\n",
    "XGB_grid.fit(X,y)\n",
    "best_model(XGB_grid)"
   ]
  },
  {
   "cell_type": "markdown",
   "metadata": {},
   "source": [
    "## Построение и оценка модели"
   ]
  },
  {
   "cell_type": "code",
   "execution_count": 28,
   "metadata": {},
   "outputs": [],
   "source": [
    "from sklearn.model_selection import train_test_split\n",
    "x_train,x_test,y_train,y_test=train_test_split(X,y,test_size=.20,random_state=40)"
   ]
  },
  {
   "cell_type": "code",
   "execution_count": 29,
   "metadata": {},
   "outputs": [
    {
     "name": "stdout",
     "output_type": "stream",
     "text": [
      "0.6501461599716953\n"
     ]
    }
   ],
   "source": [
    "#RandomForestClassifier()\n",
    "\n",
    "RFC = RandomForestClassifier(max_depth = 20, n_estimators = 150)\n",
    "RFC.fit(x_train,y_train)\n",
    "y_predic_RFC = RFC.predict(x_test)\n",
    "y_predic_RFC_proba = RFC.predict_proba(x_test)\n",
    "print(roc_auc_score(y_test,y_predic_RFC))"
   ]
  },
  {
   "cell_type": "code",
   "execution_count": 30,
   "metadata": {},
   "outputs": [
    {
     "name": "stdout",
     "output_type": "stream",
     "text": [
      "              precision    recall  f1-score   support\n",
      "\n",
      "           0       0.71      0.40      0.51      5913\n",
      "           1       0.71      0.90      0.79      9569\n",
      "\n",
      "    accuracy                           0.71     15482\n",
      "   macro avg       0.71      0.65      0.65     15482\n",
      "weighted avg       0.71      0.71      0.69     15482\n",
      "\n"
     ]
    }
   ],
   "source": [
    "print(classification_report(y_test,y_predic_RFC))"
   ]
  },
  {
   "cell_type": "code",
   "execution_count": 31,
   "metadata": {},
   "outputs": [
    {
     "name": "stdout",
     "output_type": "stream",
     "text": [
      "0.6587600183148212\n"
     ]
    }
   ],
   "source": [
    "#XGBClassifier()\n",
    "\n",
    "XGB = XGBClassifier(max_depth = 5, n_estimators = 150)\n",
    "XGB.fit(x_train,y_train)\n",
    "y_predic_XGB = XGB.predict(x_test)\n",
    "print(roc_auc_score(y_test,y_predic_XGB))"
   ]
  },
  {
   "cell_type": "code",
   "execution_count": 32,
   "metadata": {},
   "outputs": [
    {
     "name": "stdout",
     "output_type": "stream",
     "text": [
      "              precision    recall  f1-score   support\n",
      "\n",
      "           0       0.71      0.43      0.53      5913\n",
      "           1       0.72      0.89      0.79      9569\n",
      "\n",
      "    accuracy                           0.71     15482\n",
      "   macro avg       0.71      0.66      0.66     15482\n",
      "weighted avg       0.71      0.71      0.69     15482\n",
      "\n"
     ]
    }
   ],
   "source": [
    "print(classification_report(y_test,y_predic_XGB))"
   ]
  },
  {
   "cell_type": "markdown",
   "metadata": {},
   "source": [
    "Посмотрим какие признаки классификаторы считают важными"
   ]
  },
  {
   "cell_type": "code",
   "execution_count": 33,
   "metadata": {},
   "outputs": [],
   "source": [
    "import operator\n",
    "RFC_FI = dict(zip(X.columns, RFC.feature_importances_))\n",
    "XGB_FI = dict(zip(X.columns, XGB.feature_importances_))\n",
    "RFC_FI_sorted = sorted(RFC_FI.items(),key=operator.itemgetter(1),reverse=True)\n",
    "XGB_FI_sorted = sorted(XGB_FI.items(),key=operator.itemgetter(1),reverse=True)"
   ]
  },
  {
   "cell_type": "markdown",
   "metadata": {},
   "source": [
    "RandomForestClassifier"
   ]
  },
  {
   "cell_type": "code",
   "execution_count": 34,
   "metadata": {},
   "outputs": [
    {
     "data": {
      "text/plain": [
       "[('POLICY_PRICE_CHANGE', 0.17799121557560232),\n",
       " ('POLICY_MIN_AGE', 0.07542720243892233),\n",
       " ('VEHICLE_ENGINE_POWER', 0.0723953284907416),\n",
       " ('POLICY_MIN_DRIVING_EXPERIENCE', 0.07058409012743062),\n",
       " ('VEHICLE_MODEL', 0.07039132530815927),\n",
       " ('POLICY_INTERMEDIARY', 0.059192794484840876),\n",
       " ('VEHICLE_MAKE', 0.050790345590953835),\n",
       " ('POLICY_END_MONTH', 0.04151535780460095),\n",
       " ('POLICY_BEGIN_MONTH', 0.041263275302172865),\n",
       " ('POLICY_SALES_CHANNEL', 0.037618966988344264),\n",
       " ('POLICY_CLM_GLT_N', 0.031179360812834254),\n",
       " ('POLICY_DEDUCT_VALUE', 0.03112195996892617),\n",
       " ('CLIENT_REGISTRATION_REGION', 0.030829030757235375),\n",
       " ('CLAIM_AVG_ACC_ST_PRD', 0.030403595911700942),\n",
       " ('POLICY_YEARS_RENEWED_N', 0.030241625180998048)]"
      ]
     },
     "execution_count": 34,
     "metadata": {},
     "output_type": "execute_result"
    }
   ],
   "source": [
    "RFC_FI_sorted[:15]"
   ]
  },
  {
   "cell_type": "markdown",
   "metadata": {},
   "source": [
    "XGBClassifier"
   ]
  },
  {
   "cell_type": "code",
   "execution_count": 35,
   "metadata": {},
   "outputs": [
    {
     "data": {
      "text/plain": [
       "[('POLICY_PRV_CLM_GLT_N', 0.17137995),\n",
       " ('POLICY_PRICE_CHANGE', 0.103694856),\n",
       " ('POLICY_CLM_GLT_N', 0.08655128),\n",
       " ('CLIENT_HAS_OSAGO', 0.074188076),\n",
       " ('POLICY_YEARS_RENEWED_N', 0.05885512),\n",
       " ('CLIENT_HAS_DAGO', 0.057827167),\n",
       " ('CLIENT_REGISTRATION_REGION', 0.04497215),\n",
       " ('POLICY_BRANCH', 0.04462879),\n",
       " ('POLICY_END_MONTH', 0.0378275),\n",
       " ('POLICY_DEDUCT_VALUE', 0.036028765),\n",
       " ('POLICY_SALES_CHANNEL', 0.029430417),\n",
       " ('VEHICLE_IN_CREDIT', 0.02489684),\n",
       " ('POLICY_BEGIN_MONTH', 0.022759797),\n",
       " ('POLICY_SALES_CHANNEL_GROUP', 0.021739347),\n",
       " ('POLICY_INTERMEDIARY', 0.020104982)]"
      ]
     },
     "execution_count": 35,
     "metadata": {},
     "output_type": "execute_result"
    }
   ],
   "source": [
    "XGB_FI_sorted[:15]"
   ]
  },
  {
   "cell_type": "markdown",
   "metadata": {},
   "source": [
    "## Прогнозирование целевого признака"
   ]
  },
  {
   "cell_type": "markdown",
   "metadata": {},
   "source": [
    "Окончательно будем использовать XGBClassifier."
   ]
  },
  {
   "cell_type": "code",
   "execution_count": 36,
   "metadata": {},
   "outputs": [
    {
     "data": {
      "text/html": [
       "<div>\n",
       "<style scoped>\n",
       "    .dataframe tbody tr th:only-of-type {\n",
       "        vertical-align: middle;\n",
       "    }\n",
       "\n",
       "    .dataframe tbody tr th {\n",
       "        vertical-align: top;\n",
       "    }\n",
       "\n",
       "    .dataframe thead th {\n",
       "        text-align: right;\n",
       "    }\n",
       "</style>\n",
       "<table border=\"1\" class=\"dataframe\">\n",
       "  <thead>\n",
       "    <tr style=\"text-align: right;\">\n",
       "      <th></th>\n",
       "      <th>POLICY_ID</th>\n",
       "      <th>POLICY_BEGIN_MONTH</th>\n",
       "      <th>POLICY_END_MONTH</th>\n",
       "      <th>POLICY_SALES_CHANNEL</th>\n",
       "      <th>POLICY_SALES_CHANNEL_GROUP</th>\n",
       "      <th>POLICY_BRANCH</th>\n",
       "      <th>POLICY_MIN_AGE</th>\n",
       "      <th>POLICY_MIN_DRIVING_EXPERIENCE</th>\n",
       "      <th>VEHICLE_MAKE</th>\n",
       "      <th>VEHICLE_MODEL</th>\n",
       "      <th>VEHICLE_ENGINE_POWER</th>\n",
       "      <th>VEHICLE_IN_CREDIT</th>\n",
       "      <th>VEHICLE_SUM_INSURED</th>\n",
       "      <th>POLICY_INTERMEDIARY</th>\n",
       "      <th>INSURER_GENDER</th>\n",
       "      <th>POLICY_CLM_N</th>\n",
       "      <th>POLICY_CLM_GLT_N</th>\n",
       "      <th>POLICY_PRV_CLM_N</th>\n",
       "      <th>POLICY_PRV_CLM_GLT_N</th>\n",
       "      <th>CLIENT_HAS_DAGO</th>\n",
       "      <th>CLIENT_HAS_OSAGO</th>\n",
       "      <th>POLICY_COURT_SIGN</th>\n",
       "      <th>CLAIM_AVG_ACC_ST_PRD</th>\n",
       "      <th>POLICY_HAS_COMPLAINTS</th>\n",
       "      <th>POLICY_YEARS_RENEWED_N</th>\n",
       "      <th>POLICY_DEDUCT_VALUE</th>\n",
       "      <th>CLIENT_REGISTRATION_REGION</th>\n",
       "      <th>POLICY_PRICE_CHANGE</th>\n",
       "      <th>POLICY_IS_RENEWED</th>\n",
       "      <th>POLICY_IS_RENEWED_PROBABILITY</th>\n",
       "    </tr>\n",
       "  </thead>\n",
       "  <tbody>\n",
       "    <tr>\n",
       "      <td>9</td>\n",
       "      <td>10</td>\n",
       "      <td>2</td>\n",
       "      <td>2</td>\n",
       "      <td>53</td>\n",
       "      <td>6</td>\n",
       "      <td>1</td>\n",
       "      <td>56</td>\n",
       "      <td>37</td>\n",
       "      <td>61</td>\n",
       "      <td>345</td>\n",
       "      <td>102.0</td>\n",
       "      <td>0</td>\n",
       "      <td>0</td>\n",
       "      <td>224</td>\n",
       "      <td>1</td>\n",
       "      <td>0</td>\n",
       "      <td>0</td>\n",
       "      <td>0</td>\n",
       "      <td>0</td>\n",
       "      <td>0</td>\n",
       "      <td>1</td>\n",
       "      <td>0</td>\n",
       "      <td>0.0</td>\n",
       "      <td>0</td>\n",
       "      <td>1</td>\n",
       "      <td>15000.0</td>\n",
       "      <td>58</td>\n",
       "      <td>-0.04</td>\n",
       "      <td>1</td>\n",
       "      <td>0.842250</td>\n",
       "    </tr>\n",
       "    <tr>\n",
       "      <td>11</td>\n",
       "      <td>12</td>\n",
       "      <td>1</td>\n",
       "      <td>1</td>\n",
       "      <td>53</td>\n",
       "      <td>6</td>\n",
       "      <td>0</td>\n",
       "      <td>53</td>\n",
       "      <td>35</td>\n",
       "      <td>30</td>\n",
       "      <td>430</td>\n",
       "      <td>197.0</td>\n",
       "      <td>1</td>\n",
       "      <td>0</td>\n",
       "      <td>1221</td>\n",
       "      <td>1</td>\n",
       "      <td>0</td>\n",
       "      <td>0</td>\n",
       "      <td>0</td>\n",
       "      <td>0</td>\n",
       "      <td>0</td>\n",
       "      <td>0</td>\n",
       "      <td>0</td>\n",
       "      <td>0.0</td>\n",
       "      <td>0</td>\n",
       "      <td>1</td>\n",
       "      <td>0.0</td>\n",
       "      <td>41</td>\n",
       "      <td>0.06</td>\n",
       "      <td>1</td>\n",
       "      <td>0.729281</td>\n",
       "    </tr>\n",
       "    <tr>\n",
       "      <td>12</td>\n",
       "      <td>13</td>\n",
       "      <td>1</td>\n",
       "      <td>1</td>\n",
       "      <td>54</td>\n",
       "      <td>6</td>\n",
       "      <td>0</td>\n",
       "      <td>30</td>\n",
       "      <td>8</td>\n",
       "      <td>68</td>\n",
       "      <td>470</td>\n",
       "      <td>170.0</td>\n",
       "      <td>0</td>\n",
       "      <td>0</td>\n",
       "      <td>352</td>\n",
       "      <td>0</td>\n",
       "      <td>2</td>\n",
       "      <td>2</td>\n",
       "      <td>0</td>\n",
       "      <td>0</td>\n",
       "      <td>1</td>\n",
       "      <td>1</td>\n",
       "      <td>0</td>\n",
       "      <td>2.0</td>\n",
       "      <td>0</td>\n",
       "      <td>1</td>\n",
       "      <td>0.0</td>\n",
       "      <td>41</td>\n",
       "      <td>-0.29</td>\n",
       "      <td>1</td>\n",
       "      <td>0.645880</td>\n",
       "    </tr>\n",
       "    <tr>\n",
       "      <td>21</td>\n",
       "      <td>22</td>\n",
       "      <td>1</td>\n",
       "      <td>1</td>\n",
       "      <td>52</td>\n",
       "      <td>6</td>\n",
       "      <td>1</td>\n",
       "      <td>61</td>\n",
       "      <td>25</td>\n",
       "      <td>68</td>\n",
       "      <td>271</td>\n",
       "      <td>122.0</td>\n",
       "      <td>0</td>\n",
       "      <td>0</td>\n",
       "      <td>515</td>\n",
       "      <td>1</td>\n",
       "      <td>3</td>\n",
       "      <td>3</td>\n",
       "      <td>0</td>\n",
       "      <td>0</td>\n",
       "      <td>0</td>\n",
       "      <td>0</td>\n",
       "      <td>0</td>\n",
       "      <td>0.0</td>\n",
       "      <td>0</td>\n",
       "      <td>4</td>\n",
       "      <td>0.0</td>\n",
       "      <td>36</td>\n",
       "      <td>0.43</td>\n",
       "      <td>0</td>\n",
       "      <td>0.437789</td>\n",
       "    </tr>\n",
       "    <tr>\n",
       "      <td>36</td>\n",
       "      <td>37</td>\n",
       "      <td>12</td>\n",
       "      <td>12</td>\n",
       "      <td>1</td>\n",
       "      <td>4</td>\n",
       "      <td>1</td>\n",
       "      <td>36</td>\n",
       "      <td>18</td>\n",
       "      <td>52</td>\n",
       "      <td>59</td>\n",
       "      <td>140.0</td>\n",
       "      <td>0</td>\n",
       "      <td>0</td>\n",
       "      <td>55</td>\n",
       "      <td>1</td>\n",
       "      <td>0</td>\n",
       "      <td>0</td>\n",
       "      <td>0</td>\n",
       "      <td>0</td>\n",
       "      <td>1</td>\n",
       "      <td>1</td>\n",
       "      <td>0</td>\n",
       "      <td>0.0</td>\n",
       "      <td>0</td>\n",
       "      <td>8</td>\n",
       "      <td>0.0</td>\n",
       "      <td>58</td>\n",
       "      <td>-0.01</td>\n",
       "      <td>1</td>\n",
       "      <td>0.842699</td>\n",
       "    </tr>\n",
       "    <tr>\n",
       "      <td>...</td>\n",
       "      <td>...</td>\n",
       "      <td>...</td>\n",
       "      <td>...</td>\n",
       "      <td>...</td>\n",
       "      <td>...</td>\n",
       "      <td>...</td>\n",
       "      <td>...</td>\n",
       "      <td>...</td>\n",
       "      <td>...</td>\n",
       "      <td>...</td>\n",
       "      <td>...</td>\n",
       "      <td>...</td>\n",
       "      <td>...</td>\n",
       "      <td>...</td>\n",
       "      <td>...</td>\n",
       "      <td>...</td>\n",
       "      <td>...</td>\n",
       "      <td>...</td>\n",
       "      <td>...</td>\n",
       "      <td>...</td>\n",
       "      <td>...</td>\n",
       "      <td>...</td>\n",
       "      <td>...</td>\n",
       "      <td>...</td>\n",
       "      <td>...</td>\n",
       "      <td>...</td>\n",
       "      <td>...</td>\n",
       "      <td>...</td>\n",
       "      <td>...</td>\n",
       "      <td>...</td>\n",
       "    </tr>\n",
       "    <tr>\n",
       "      <td>96573</td>\n",
       "      <td>96574</td>\n",
       "      <td>2</td>\n",
       "      <td>2</td>\n",
       "      <td>53</td>\n",
       "      <td>6</td>\n",
       "      <td>1</td>\n",
       "      <td>38</td>\n",
       "      <td>13</td>\n",
       "      <td>3</td>\n",
       "      <td>374</td>\n",
       "      <td>224.0</td>\n",
       "      <td>0</td>\n",
       "      <td>1</td>\n",
       "      <td>110</td>\n",
       "      <td>0</td>\n",
       "      <td>2</td>\n",
       "      <td>2</td>\n",
       "      <td>6</td>\n",
       "      <td>6</td>\n",
       "      <td>1</td>\n",
       "      <td>1</td>\n",
       "      <td>0</td>\n",
       "      <td>0.0</td>\n",
       "      <td>0</td>\n",
       "      <td>0</td>\n",
       "      <td>0.0</td>\n",
       "      <td>58</td>\n",
       "      <td>-0.08</td>\n",
       "      <td>1</td>\n",
       "      <td>0.761765</td>\n",
       "    </tr>\n",
       "    <tr>\n",
       "      <td>96576</td>\n",
       "      <td>96577</td>\n",
       "      <td>1</td>\n",
       "      <td>1</td>\n",
       "      <td>53</td>\n",
       "      <td>6</td>\n",
       "      <td>1</td>\n",
       "      <td>32</td>\n",
       "      <td>11</td>\n",
       "      <td>3</td>\n",
       "      <td>373</td>\n",
       "      <td>170.0</td>\n",
       "      <td>0</td>\n",
       "      <td>0</td>\n",
       "      <td>1241</td>\n",
       "      <td>0</td>\n",
       "      <td>0</td>\n",
       "      <td>0</td>\n",
       "      <td>6</td>\n",
       "      <td>6</td>\n",
       "      <td>0</td>\n",
       "      <td>1</td>\n",
       "      <td>0</td>\n",
       "      <td>0.0</td>\n",
       "      <td>0</td>\n",
       "      <td>0</td>\n",
       "      <td>0.0</td>\n",
       "      <td>58</td>\n",
       "      <td>0.04</td>\n",
       "      <td>0</td>\n",
       "      <td>0.481800</td>\n",
       "    </tr>\n",
       "    <tr>\n",
       "      <td>96585</td>\n",
       "      <td>96586</td>\n",
       "      <td>2</td>\n",
       "      <td>2</td>\n",
       "      <td>52</td>\n",
       "      <td>6</td>\n",
       "      <td>1</td>\n",
       "      <td>53</td>\n",
       "      <td>25</td>\n",
       "      <td>23</td>\n",
       "      <td>236</td>\n",
       "      <td>161.0</td>\n",
       "      <td>1</td>\n",
       "      <td>0</td>\n",
       "      <td>493</td>\n",
       "      <td>1</td>\n",
       "      <td>0</td>\n",
       "      <td>0</td>\n",
       "      <td>1</td>\n",
       "      <td>1</td>\n",
       "      <td>1</td>\n",
       "      <td>1</td>\n",
       "      <td>0</td>\n",
       "      <td>0.0</td>\n",
       "      <td>0</td>\n",
       "      <td>3</td>\n",
       "      <td>0.0</td>\n",
       "      <td>58</td>\n",
       "      <td>-0.13</td>\n",
       "      <td>1</td>\n",
       "      <td>0.881219</td>\n",
       "    </tr>\n",
       "    <tr>\n",
       "      <td>96594</td>\n",
       "      <td>96595</td>\n",
       "      <td>2</td>\n",
       "      <td>2</td>\n",
       "      <td>52</td>\n",
       "      <td>6</td>\n",
       "      <td>0</td>\n",
       "      <td>36</td>\n",
       "      <td>19</td>\n",
       "      <td>35</td>\n",
       "      <td>545</td>\n",
       "      <td>286.0</td>\n",
       "      <td>1</td>\n",
       "      <td>0</td>\n",
       "      <td>910</td>\n",
       "      <td>1</td>\n",
       "      <td>2</td>\n",
       "      <td>2</td>\n",
       "      <td>0</td>\n",
       "      <td>0</td>\n",
       "      <td>0</td>\n",
       "      <td>1</td>\n",
       "      <td>0</td>\n",
       "      <td>0.0</td>\n",
       "      <td>0</td>\n",
       "      <td>1</td>\n",
       "      <td>0.0</td>\n",
       "      <td>42</td>\n",
       "      <td>0.01</td>\n",
       "      <td>1</td>\n",
       "      <td>0.746357</td>\n",
       "    </tr>\n",
       "    <tr>\n",
       "      <td>96597</td>\n",
       "      <td>96598</td>\n",
       "      <td>3</td>\n",
       "      <td>3</td>\n",
       "      <td>53</td>\n",
       "      <td>6</td>\n",
       "      <td>0</td>\n",
       "      <td>40</td>\n",
       "      <td>11</td>\n",
       "      <td>23</td>\n",
       "      <td>217</td>\n",
       "      <td>125.0</td>\n",
       "      <td>0</td>\n",
       "      <td>0</td>\n",
       "      <td>286</td>\n",
       "      <td>0</td>\n",
       "      <td>0</td>\n",
       "      <td>0</td>\n",
       "      <td>0</td>\n",
       "      <td>0</td>\n",
       "      <td>0</td>\n",
       "      <td>0</td>\n",
       "      <td>0</td>\n",
       "      <td>0.0</td>\n",
       "      <td>0</td>\n",
       "      <td>4</td>\n",
       "      <td>0.0</td>\n",
       "      <td>42</td>\n",
       "      <td>-0.07</td>\n",
       "      <td>1</td>\n",
       "      <td>0.792218</td>\n",
       "    </tr>\n",
       "  </tbody>\n",
       "</table>\n",
       "<p>19198 rows × 30 columns</p>\n",
       "</div>"
      ],
      "text/plain": [
       "       POLICY_ID  POLICY_BEGIN_MONTH  POLICY_END_MONTH  POLICY_SALES_CHANNEL  \\\n",
       "9             10                   2                 2                    53   \n",
       "11            12                   1                 1                    53   \n",
       "12            13                   1                 1                    54   \n",
       "21            22                   1                 1                    52   \n",
       "36            37                  12                12                     1   \n",
       "...          ...                 ...               ...                   ...   \n",
       "96573      96574                   2                 2                    53   \n",
       "96576      96577                   1                 1                    53   \n",
       "96585      96586                   2                 2                    52   \n",
       "96594      96595                   2                 2                    52   \n",
       "96597      96598                   3                 3                    53   \n",
       "\n",
       "       POLICY_SALES_CHANNEL_GROUP  POLICY_BRANCH  POLICY_MIN_AGE  \\\n",
       "9                               6              1              56   \n",
       "11                              6              0              53   \n",
       "12                              6              0              30   \n",
       "21                              6              1              61   \n",
       "36                              4              1              36   \n",
       "...                           ...            ...             ...   \n",
       "96573                           6              1              38   \n",
       "96576                           6              1              32   \n",
       "96585                           6              1              53   \n",
       "96594                           6              0              36   \n",
       "96597                           6              0              40   \n",
       "\n",
       "       POLICY_MIN_DRIVING_EXPERIENCE  VEHICLE_MAKE  VEHICLE_MODEL  \\\n",
       "9                                 37            61            345   \n",
       "11                                35            30            430   \n",
       "12                                 8            68            470   \n",
       "21                                25            68            271   \n",
       "36                                18            52             59   \n",
       "...                              ...           ...            ...   \n",
       "96573                             13             3            374   \n",
       "96576                             11             3            373   \n",
       "96585                             25            23            236   \n",
       "96594                             19            35            545   \n",
       "96597                             11            23            217   \n",
       "\n",
       "       VEHICLE_ENGINE_POWER  VEHICLE_IN_CREDIT  VEHICLE_SUM_INSURED  \\\n",
       "9                     102.0                  0                    0   \n",
       "11                    197.0                  1                    0   \n",
       "12                    170.0                  0                    0   \n",
       "21                    122.0                  0                    0   \n",
       "36                    140.0                  0                    0   \n",
       "...                     ...                ...                  ...   \n",
       "96573                 224.0                  0                    1   \n",
       "96576                 170.0                  0                    0   \n",
       "96585                 161.0                  1                    0   \n",
       "96594                 286.0                  1                    0   \n",
       "96597                 125.0                  0                    0   \n",
       "\n",
       "       POLICY_INTERMEDIARY  INSURER_GENDER  POLICY_CLM_N  POLICY_CLM_GLT_N  \\\n",
       "9                      224               1             0                 0   \n",
       "11                    1221               1             0                 0   \n",
       "12                     352               0             2                 2   \n",
       "21                     515               1             3                 3   \n",
       "36                      55               1             0                 0   \n",
       "...                    ...             ...           ...               ...   \n",
       "96573                  110               0             2                 2   \n",
       "96576                 1241               0             0                 0   \n",
       "96585                  493               1             0                 0   \n",
       "96594                  910               1             2                 2   \n",
       "96597                  286               0             0                 0   \n",
       "\n",
       "       POLICY_PRV_CLM_N  POLICY_PRV_CLM_GLT_N  CLIENT_HAS_DAGO  \\\n",
       "9                     0                     0                0   \n",
       "11                    0                     0                0   \n",
       "12                    0                     0                1   \n",
       "21                    0                     0                0   \n",
       "36                    0                     0                1   \n",
       "...                 ...                   ...              ...   \n",
       "96573                 6                     6                1   \n",
       "96576                 6                     6                0   \n",
       "96585                 1                     1                1   \n",
       "96594                 0                     0                0   \n",
       "96597                 0                     0                0   \n",
       "\n",
       "       CLIENT_HAS_OSAGO  POLICY_COURT_SIGN  CLAIM_AVG_ACC_ST_PRD  \\\n",
       "9                     1                  0                   0.0   \n",
       "11                    0                  0                   0.0   \n",
       "12                    1                  0                   2.0   \n",
       "21                    0                  0                   0.0   \n",
       "36                    1                  0                   0.0   \n",
       "...                 ...                ...                   ...   \n",
       "96573                 1                  0                   0.0   \n",
       "96576                 1                  0                   0.0   \n",
       "96585                 1                  0                   0.0   \n",
       "96594                 1                  0                   0.0   \n",
       "96597                 0                  0                   0.0   \n",
       "\n",
       "       POLICY_HAS_COMPLAINTS  POLICY_YEARS_RENEWED_N  POLICY_DEDUCT_VALUE  \\\n",
       "9                          0                       1              15000.0   \n",
       "11                         0                       1                  0.0   \n",
       "12                         0                       1                  0.0   \n",
       "21                         0                       4                  0.0   \n",
       "36                         0                       8                  0.0   \n",
       "...                      ...                     ...                  ...   \n",
       "96573                      0                       0                  0.0   \n",
       "96576                      0                       0                  0.0   \n",
       "96585                      0                       3                  0.0   \n",
       "96594                      0                       1                  0.0   \n",
       "96597                      0                       4                  0.0   \n",
       "\n",
       "       CLIENT_REGISTRATION_REGION  POLICY_PRICE_CHANGE  POLICY_IS_RENEWED  \\\n",
       "9                              58                -0.04                  1   \n",
       "11                             41                 0.06                  1   \n",
       "12                             41                -0.29                  1   \n",
       "21                             36                 0.43                  0   \n",
       "36                             58                -0.01                  1   \n",
       "...                           ...                  ...                ...   \n",
       "96573                          58                -0.08                  1   \n",
       "96576                          58                 0.04                  0   \n",
       "96585                          58                -0.13                  1   \n",
       "96594                          42                 0.01                  1   \n",
       "96597                          42                -0.07                  1   \n",
       "\n",
       "       POLICY_IS_RENEWED_PROBABILITY  \n",
       "9                           0.842250  \n",
       "11                          0.729281  \n",
       "12                          0.645880  \n",
       "21                          0.437789  \n",
       "36                          0.842699  \n",
       "...                              ...  \n",
       "96573                       0.761765  \n",
       "96576                       0.481800  \n",
       "96585                       0.881219  \n",
       "96594                       0.746357  \n",
       "96597                       0.792218  \n",
       "\n",
       "[19198 rows x 30 columns]"
      ]
     },
     "execution_count": 36,
     "metadata": {},
     "output_type": "execute_result"
    }
   ],
   "source": [
    "test = test.drop(columns='POLICY_IS_RENEWED')\n",
    "y_predict = XGB.predict(test.drop(columns='POLICY_ID'))\n",
    "y_predict_proba = pd.DataFrame(XGB.predict_proba(test.drop(columns='POLICY_ID')))\n",
    "test['POLICY_IS_RENEWED'] = y_predict\n",
    "test['POLICY_IS_RENEWED_PROBABILITY'] = y_predict_proba[1].values\n",
    "test"
   ]
  },
  {
   "cell_type": "markdown",
   "metadata": {},
   "source": [
    "### Сохраняем результат"
   ]
  },
  {
   "cell_type": "code",
   "execution_count": 37,
   "metadata": {},
   "outputs": [],
   "source": [
    "result = pd.DataFrame()\n",
    "result['POLICY_ID'] = test['POLICY_ID']\n",
    "result['POLICY_IS_RENEWED'] = test['POLICY_IS_RENEWED']\n",
    "result['POLICY_IS_RENEWED_PROBABILITY'] = test['POLICY_IS_RENEWED_PROBABILITY']\n",
    "result.to_csv('result.csv',index=False)"
   ]
  },
  {
   "cell_type": "code",
   "execution_count": null,
   "metadata": {},
   "outputs": [],
   "source": []
  }
 ],
 "metadata": {
  "kernelspec": {
   "display_name": "Python 3",
   "language": "python",
   "name": "python3"
  },
  "language_info": {
   "codemirror_mode": {
    "name": "ipython",
    "version": 3
   },
   "file_extension": ".py",
   "mimetype": "text/x-python",
   "name": "python",
   "nbconvert_exporter": "python",
   "pygments_lexer": "ipython3",
   "version": "3.7.4"
  }
 },
 "nbformat": 4,
 "nbformat_minor": 2
}
